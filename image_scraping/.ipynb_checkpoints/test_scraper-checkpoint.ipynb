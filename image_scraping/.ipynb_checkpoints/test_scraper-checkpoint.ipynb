{
 "cells": [
  {
   "cell_type": "code",
   "execution_count": 9,
   "id": "49ad2a14-de7f-4fef-98db-4f703ed337bd",
   "metadata": {},
   "outputs": [],
   "source": [
    "# Installing the required libraries\n",
    "# !pip install requests"
   ]
  },
  {
   "cell_type": "code",
   "execution_count": 10,
   "id": "eb6a0012-19ba-4ac3-8d5b-c63a6015372a",
   "metadata": {},
   "outputs": [],
   "source": [
    "# importing the libraries\n",
    "import requests\n",
    "from bs4 import BeautifulSoup\n",
    "from urllib.request import urlopen as uReq\n",
    "import os"
   ]
  },
  {
   "cell_type": "code",
   "execution_count": 11,
   "id": "a1a7c743-fd82-40ff-b589-029daf36413a",
   "metadata": {},
   "outputs": [],
   "source": [
    "# setting up save directory path\n",
    "save_dir = 'images/'\n",
    "\n",
    "# if directory doesnt exists create directory\n",
    "if not os.path.exists(save_dir):\n",
    "    os.makedirs(save_dir)"
   ]
  },
  {
   "cell_type": "code",
   "execution_count": 35,
   "id": "705ed7e3-8922-47f7-9b49-e3ab6ecb8b76",
   "metadata": {},
   "outputs": [],
   "source": [
    "# setting up query variable for searching the images on google images\n",
    "query = 'arthur morgan'"
   ]
  },
  {
   "cell_type": "code",
   "execution_count": 36,
   "id": "b970c05a-7397-4787-aff5-cc6de588d7df",
   "metadata": {},
   "outputs": [],
   "source": [
    "# getting the url from google images\n",
    "response = requests.get(f\"https://www.google.com/search?q={query}&sca_esv=592991994&hl=en&tbm=isch&source=hp&biw=1389&bih=788&ei=AAaFZcqtEcr2seMP5O6ekAs&iflsig=AO6bgOgAAAAAZYUUEENE7qWHW5wARbWXbZVTktFlef9L&ved=0ahUKEwjKrce2kKKDAxVKe2wGHWS3B7IQ4dUDCAc&uact=5&oq=pikachu&gs_lp=EgNpbWciB3Bpa2FjaHUyCBAAGIAEGLEDMggQABiABBixAzIIEAAYgAQYsQMyCBAAGIAEGLEDMggQABiABBixAzIIEAAYgAQYsQMyCBAAGIAEGLEDMggQABiABBixAzIFEAAYgAQyBRAAGIAESMQeUM0VWI8dcAJ4AJABAJgBd6ABhAaqAQMwLje4AQPIAQD4AQGKAgtnd3Mtd2l6LWltZ6gCAA&sclient=img\")"
   ]
  },
  {
   "cell_type": "code",
   "execution_count": 37,
   "id": "459cbd89-2fc5-4fc1-adde-9f197f0e6849",
   "metadata": {},
   "outputs": [
    {
     "name": "stdout",
     "output_type": "stream",
     "text": [
      "<Response [200]>\n"
     ]
    }
   ],
   "source": [
    "# lets print response\n",
    "# Response 200 means it was successful i.e. request was succedded\n",
    "print(response)"
   ]
  },
  {
   "cell_type": "code",
   "execution_count": 38,
   "id": "dbdc6cdc-4901-4587-8f0f-1e1888ba9b46",
   "metadata": {},
   "outputs": [
    {
     "name": "stdout",
     "output_type": "stream",
     "text": [
      "<!DOCTYPE html PUBLIC \"-//WAPFORUM//DTD XHTML Mobile 1.0//EN\" \"http://www.wapforum.org/DTD/xhtml-mobile10.dtd\">\n",
      "<html lang=\"en-IN\" xmlns=\"http://www.w3.org/1999/xhtml\"><head><meta content=\"application/xhtml+xml; charset=utf-8\" http-equiv=\"Content-Type\"/><meta content=\"no-cache\" name=\"Cache-Control\"/><title>arthur morgan - Google Search</title><style>a{text-decoration:none;color:inherit}a:hover{text-decoration:underline}a img{border:0}body{font-family:arial,sans-serif;padding:8px;margin:0 auto;max-width:700px;min-width:240px;}.FbhRzb{border-left:thin solid #dadce0;border-right:thin solid #dadce0;border-top:thin solid #dadce0;height:40px;overflow:hidden}.n692Zd{margin-bottom:10px}.cvifge{height:40px;border-spacing:0}.QvGUP{height:40px;padding:0 8px 0 8px;vertical-align:top}.O4cRJf{height:40px;width:100%;padding:0;padding-right:16px}.O1ePr{height:40px;padding:0;vertical-align:top}.kgJEQe{height:36px;width:98px;vertical-align:top;margin-top:4px}.lXLRf{vertical-align:top}.MhzMZd{border:0;vertical-align:middle;font-size:14px;height:40px;padding:0;width:100%;padding-left:16px}.xB0fq{height:40px;border:none;font-size:14px;background-color:#1a73e8;color:#fff;padding:0 16px;margin:0;vertical-align:top;cursor:pointer}.xB0fq:focus{border:1px solid #1a73e8}.M7pB2{border:thin solid #dadce0;margin:0 0 3px 0;font-size:13px;font-weight:500;height:40px}.euZec{width:100%;height:40px;text-align:center;border-spacing:0}table.euZec td{padding:0;width:25%}.QIqI7{display:inline-block;padding-top:4px;font-weight:bold;color:#4285f4}.EY24We{border-bottom:2px solid #4285f4}.CsQyDc{display:inline-block;color:#70757a}.TuS8Ad{font-size:14px}.HddGcc{padding:8px;color:#70757a}.dzp8ae{font-weight:bold;color:#3c4043}.rEM8G{color:#70757a}.bookcf{table-layout:fixed;width:100%;border-spacing:0}.InWNIe{text-align:center}.uZgmoc{border:thin solid #dadce0;color:#70757a;font-size:14px;text-align:center;table-layout:fixed;width:100%}.frGj1b{display:block;padding:12px 0 12px 0;width:100%}.BnJWBc{text-align:center;padding:6px 0 13px 0;height:35px}.e3goi{vertical-align:top;padding:0;height:180px}.GpQGbf{margin:auto;border-collapse:collapse;border-spacing:0;width:100%}</style></head><body><style>.X6ZCif{color:#202124;font-size:11px;line-height:16px;display:inline-block;padding-top:2px;overflow:hidden;padding-bottom:4px;width:100%}.TwVfHd{border-radius:16px;border:thin solid #dadce0;display:inline-block;padding:8px 8px;margin-right:8px;margin-bottom:4px}.yekiAe{background-color:#dadce0}.jjVJ4e{width:100%}.ezO2md{border:thin solid #dadce0;padding:12px 16px 12px 16px;margin-bottom:10px;font-family:arial,sans-serif}.lIMUZd{font-family:arial,sans-serif}.RntSmf{border-spacing:0}.lgD2Tc{width:100%}.SpelHe{text-align:center}.SpelHe{position:relative}.deHqpb{bottom:0;left:0;margin:auto;position:absolute;right:0;top:0}.kCmkOe{position:relative}.ID6Z3b{background-image:url(https://www.gstatic.com/search_trustx/visibility_off_icon_p0-7d897bf44bafe5436baa9009e8716337.png);background-repeat:no-repeat;background-position:center;background-size:20px}.kCmkOe{width:162px;height:140px;line-height:140px;overflow:'hidden';text-align:center}.DS1iW{text-align:center;margin:auto;vertical-align:middle;max-width:162px;max-height:140px}.AlD19d{padding-top:2px;padding-bottom:8px;}.fYyStc{word-break:break-word}.ynsChf{display:block;white-space:nowrap;overflow:hidden;text-overflow:ellipsis}.Fj3V3b{color:#1967d2;font-size:14px;line-height:20px}.FrIlee{color:#202124;font-size:11px;line-height:16px}.F9iS2e{color:#70757a;font-size:11px;line-height:16px}.WMQ2Le{color:#70757a;font-size:12px;line-height:16px}.x3G5ab{color:#202124;font-size:12px;line-height:16px}.fuLhoc{color:#1967d2;font-size:16px;line-height:20px}.epoveb{font-size:24px;line-height:28px;font-weight:400;color:#202124}.dXDvrc{color:#0d652d;font-size:14px;line-height:20px;word-wrap:break-word}.dloBPe{font-weight:bold}.YVIcad{color:#70757a}.JkVVdd{color:#ea4335}.oXZRFd{color:#ea4335}.MQHtg{color:#fbbc04}.pyMRrb{color:#1e8e3e}.EtTZid{color:#1e8e3e}.M3vVJe{color:#1967d2}.qXLe6d{display:block}.NHQNef{font-style:italic}.Cb8Z7c{white-space:pre}a.ZWRArf{text-decoration:none}a .CVA68e:hover{text-decoration:underline}</style><div class=\"n692Zd\"><div class=\"BnJWBc\"><a class=\"lXLRf\" href=\"/?sca_esv=592991994&amp;hl=en&amp;biw=1389&amp;bih=788&amp;output=images&amp;ie=UTF-8&amp;tbm=isch&amp;sa=X&amp;ved=0ahUKEwiw_amSlqKDAxXqZmwGHdxSBBEQPAgC\"><img alt=\"Google\" class=\"kgJEQe\" src=\"/images/branding/searchlogo/1x/googlelogo_desk_heirloom_color_150x55dp.gif\"/></a></div><div class=\"FbhRzb\"><form action=\"/search\"><input name=\"sca_esv\" type=\"hidden\" value=\"592991994\"/><input name=\"hl\" type=\"hidden\" value=\"en\"/><input name=\"biw\" type=\"hidden\" value=\"1389\"/><input name=\"bih\" type=\"hidden\" value=\"788\"/><input name=\"ie\" type=\"hidden\" value=\"ISO-8859-1\"/><input name=\"tbm\" type=\"hidden\" value=\"isch\"/><input name=\"oq\" type=\"hidden\"/><input name=\"aqs\" type=\"hidden\"/><table class=\"cvifge\"><tr><td class=\"O4cRJf\"><input class=\"MhzMZd\" name=\"q\" type=\"text\" value=\"arthur morgan\"/></td><td class=\"O1ePr\"><input class=\"xB0fq\" type=\"submit\" value=\"Search\"/></td></tr></table></form></div><div class=\"M7pB2\"><table class=\"euZec\"><tbody><tr><td><a class=\"CsQyDc\" href=\"/search?q=arthur+morgan&amp;sca_esv=592991994&amp;hl=en&amp;biw=1389&amp;bih=788&amp;ie=UTF-8&amp;source=lnms&amp;sa=X&amp;ved=0ahUKEwiw_amSlqKDAxXqZmwGHdxSBBEQ_AUIBCgA\">ALL</a></td><td class=\"EY24We\"><span class=\"QIqI7\">IMAGES</span></td><td><a class=\"CsQyDc\" href=\"/search?q=arthur+morgan&amp;sca_esv=592991994&amp;hl=en&amp;biw=1389&amp;bih=788&amp;ie=UTF-8&amp;tbm=vid&amp;source=lnms&amp;sa=X&amp;ved=0ahUKEwiw_amSlqKDAxXqZmwGHdxSBBEQ_AUIBigC\">VIDEOS</a></td><td><a class=\"CsQyDc\" href=\"/search?q=arthur+morgan&amp;sca_esv=592991994&amp;hl=en&amp;biw=1389&amp;bih=788&amp;ie=UTF-8&amp;tbm=nws&amp;source=lnms&amp;sa=X&amp;ved=0ahUKEwiw_amSlqKDAxXqZmwGHdxSBBEQ_AUIBygD\">NEWS</a></td></tr></tbody></table></div></div><div class=\"X6ZCif\"><a class=\"TwVfHd\" href=\"/search?sca_esv=592991994&amp;hl=en&amp;biw=1389&amp;bih=788&amp;ie=UTF-8&amp;tbm=isch&amp;q=arthur+morgan&amp;chips=q:arthur+morgan,g_1:wallpaper&amp;sa=X&amp;ved=0ahUKEwiw_amSlqKDAxXqZmwGHdxSBBEQ4lYICygA\">wallpaper</a><a class=\"TwVfHd\" href=\"/search?sca_esv=592991994&amp;hl=en&amp;biw=1389&amp;bih=788&amp;ie=UTF-8&amp;tbm=isch&amp;q=arthur+morgan&amp;chips=q:arthur+morgan,g_1:rdr2&amp;sa=X&amp;ved=0ahUKEwiw_amSlqKDAxXqZmwGHdxSBBEQ4lYIDCgB\">rdr2</a><a class=\"TwVfHd\" href=\"/search?sca_esv=592991994&amp;hl=en&amp;biw=1389&amp;bih=788&amp;ie=UTF-8&amp;tbm=isch&amp;q=arthur+morgan&amp;chips=q:arthur+morgan,g_1:artwork&amp;sa=X&amp;ved=0ahUKEwiw_amSlqKDAxXqZmwGHdxSBBEQ4lYIDSgC\">artwork</a><a class=\"TwVfHd\" href=\"/search?sca_esv=592991994&amp;hl=en&amp;biw=1389&amp;bih=788&amp;ie=UTF-8&amp;tbm=isch&amp;q=arthur+morgan&amp;chips=q:arthur+morgan,g_1:dutch&amp;sa=X&amp;ved=0ahUKEwiw_amSlqKDAxXqZmwGHdxSBBEQ4lYIDigD\">dutch</a><a class=\"TwVfHd\" href=\"/search?sca_esv=592991994&amp;hl=en&amp;biw=1389&amp;bih=788&amp;ie=UTF-8&amp;tbm=isch&amp;q=arthur+morgan&amp;chips=q:arthur+morgan,g_1:character&amp;sa=X&amp;ved=0ahUKEwiw_amSlqKDAxXqZmwGHdxSBBEQ4lYIDygE\">character</a><a class=\"TwVfHd\" href=\"/search?sca_esv=592991994&amp;hl=en&amp;biw=1389&amp;bih=788&amp;ie=UTF-8&amp;tbm=isch&amp;q=arthur+morgan&amp;chips=q:arthur+morgan,g_1:redemption&amp;sa=X&amp;ved=0ahUKEwiw_amSlqKDAxXqZmwGHdxSBBEQ4lYIECgF\">redemption</a><a class=\"TwVfHd\" href=\"/search?sca_esv=592991994&amp;hl=en&amp;biw=1389&amp;bih=788&amp;ie=UTF-8&amp;tbm=isch&amp;q=arthur+morgan&amp;chips=q:arthur+morgan,g_1:fan+art&amp;sa=X&amp;ved=0ahUKEwiw_amSlqKDAxXqZmwGHdxSBBEQ4lYIESgG\">fan art</a><a class=\"TwVfHd\" href=\"/search?sca_esv=592991994&amp;hl=en&amp;biw=1389&amp;bih=788&amp;ie=UTF-8&amp;tbm=isch&amp;q=arthur+morgan&amp;chips=q:arthur+morgan,g_1:drawing&amp;sa=X&amp;ved=0ahUKEwiw_amSlqKDAxXqZmwGHdxSBBEQ4lYIEigH\">drawing</a><a class=\"TwVfHd\" href=\"/search?sca_esv=592991994&amp;hl=en&amp;biw=1389&amp;bih=788&amp;ie=UTF-8&amp;tbm=isch&amp;q=arthur+morgan&amp;chips=q:arthur+morgan,g_1:outfit&amp;sa=X&amp;ved=0ahUKEwiw_amSlqKDAxXqZmwGHdxSBBEQ4lYIEygI\">outfit</a><a class=\"TwVfHd\" href=\"/search?sca_esv=592991994&amp;hl=en&amp;biw=1389&amp;bih=788&amp;ie=UTF-8&amp;tbm=isch&amp;q=arthur+morgan&amp;chips=q:arthur+morgan,g_1:outlaw&amp;sa=X&amp;ved=0ahUKEwiw_amSlqKDAxXqZmwGHdxSBBEQ4lYIFCgJ\">outlaw</a></div><div><table class=\"GpQGbf\"><tr><td align=\"center\" class=\"e3goi\"><div class=\"jjVJ4e\"> <div> <div class=\"lIMUZd\"><div><table class=\"RntSmf\"><tr><td><a href=\"/url?q=https://en.wikipedia.org/wiki/Arthur_Morgan_(Red_Dead)&amp;sa=U&amp;ved=2ahUKEwiw_amSlqKDAxXqZmwGHdxSBBEQqoUBegQIAhAB&amp;usg=AOvVaw1MKObP3hhMZaPSCHZYEjuD\"><div class=\"kCmkOe\"><img alt=\"\" class=\"DS1iW\" src=\"https://encrypted-tbn0.gstatic.com/images?q=tbn:ANd9GcQCtSn1XaDCGSNb8Q5eHcjvnWmYlQRy1wm7HH1e4qCJFRAjZZLaYaDTJAFTcg&amp;s\"/></div></a></td></tr><tr><td><a href=\"/url?q=https://en.wikipedia.org/wiki/Arthur_Morgan_(Red_Dead)&amp;sa=U&amp;ved=2ahUKEwiw_amSlqKDAxXqZmwGHdxSBBEQr4kDegQIAhAC&amp;usg=AOvVaw2sY0gZKfMJ_bwLHXKGAGN5\"><div class=\"AlD19d\"> <span class=\"qXLe6d x3G5ab\"> <span class=\"fYyStc\">Arthur Morgan (Red Dead) -...</span> </span> <span class=\"qXLe6d F9iS2e\"> <span class=\"fYyStc\">en.wikipedia.org</span> </span> </div></a></td></tr></table></div></div> </div> </div></td><td align=\"center\" class=\"e3goi\"><div class=\"jjVJ4e\"> <div> <div class=\"lIMUZd\"><div><table class=\"RntSmf\"><tr><td><a href=\"/url?q=https://hero.fandom.com/wiki/Arthur_Morgan&amp;sa=U&amp;ved=2ahUKEwiw_amSlqKDAxXqZmwGHdxSBBEQqoUBegQIEhAB&amp;usg=AOvVaw3E3lVI5VVe926G62XmjqmV\"><div class=\"kCmkOe\"><img alt=\"\" class=\"DS1iW\" src=\"https://encrypted-tbn0.gstatic.com/images?q=tbn:ANd9GcQgoQsLFeC9xiKp2YKcBzCk6prxxvXeyN7Kc34Q6dzXYzBi__8yTjcqjHe4fg&amp;s\"/></div></a></td></tr><tr><td><a href=\"/url?q=https://hero.fandom.com/wiki/Arthur_Morgan&amp;sa=U&amp;ved=2ahUKEwiw_amSlqKDAxXqZmwGHdxSBBEQr4kDegQIEhAC&amp;usg=AOvVaw1ZqDaEfXq8baUk3nyYU8n9\"><div class=\"AlD19d\"> <span class=\"qXLe6d x3G5ab\"> <span class=\"fYyStc\">Arthur Morgan | Heroes Wiki...</span> </span> <span class=\"qXLe6d F9iS2e\"> <span class=\"fYyStc\">hero.fandom.com</span> </span> </div></a></td></tr></table></div></div> </div> </div></td><td align=\"center\" class=\"e3goi\"><div class=\"jjVJ4e\"> <div> <div class=\"lIMUZd\"><div><table class=\"RntSmf\"><tr><td><a href=\"/url?q=https://reddead.fandom.com/wiki/Arthur_Morgan&amp;sa=U&amp;ved=2ahUKEwiw_amSlqKDAxXqZmwGHdxSBBEQqoUBegQIExAB&amp;usg=AOvVaw0m7tJNn_3fome5FUFPVeGk\"><div class=\"kCmkOe\"><img alt=\"\" class=\"DS1iW\" src=\"https://encrypted-tbn0.gstatic.com/images?q=tbn:ANd9GcRQlFb9leLbs0KZW01Kg_CoSoTuSufeJ0-KEevi0CAb5HjubA1FsiGHjnf0yQ&amp;s\"/></div></a></td></tr><tr><td><a href=\"/url?q=https://reddead.fandom.com/wiki/Arthur_Morgan&amp;sa=U&amp;ved=2ahUKEwiw_amSlqKDAxXqZmwGHdxSBBEQr4kDegQIExAC&amp;usg=AOvVaw0L6Gsq0nk9pxABKiJP4eFn\"><div class=\"AlD19d\"> <span class=\"qXLe6d x3G5ab\"> <span class=\"fYyStc\">Arthur Morgan | Red Dead...</span> </span> <span class=\"qXLe6d F9iS2e\"> <span class=\"fYyStc\">reddead.fandom.com</span> </span> </div></a></td></tr></table></div></div> </div> </div></td><td align=\"center\" class=\"e3goi\"><div class=\"jjVJ4e\"> <div> <div class=\"lIMUZd\"><div><table class=\"RntSmf\"><tr><td><a href=\"/url?q=https://www.reddit.com/r/reddeadredemption/comments/9w4uir/arthur_morgan_is_the_best_videogame_character_r/&amp;sa=U&amp;ved=2ahUKEwiw_amSlqKDAxXqZmwGHdxSBBEQqoUBegQIEBAB&amp;usg=AOvVaw1IZDAONGk5Uw26mV9FHHNx\"><div class=\"kCmkOe\"><img alt=\"\" class=\"DS1iW\" src=\"https://encrypted-tbn0.gstatic.com/images?q=tbn:ANd9GcQM9QhcpEDXV5N-3emwLnETcI9WBH3vTy21iUMW3DQmgX9Tb2EgGeOvAJObWg&amp;s\"/></div></a></td></tr><tr><td><a href=\"/url?q=https://www.reddit.com/r/reddeadredemption/comments/9w4uir/arthur_morgan_is_the_best_videogame_character_r/&amp;sa=U&amp;ved=2ahUKEwiw_amSlqKDAxXqZmwGHdxSBBEQr4kDegQIEBAC&amp;usg=AOvVaw0LFcUfQLNlCDyK2PTvL5DW\"><div class=\"AlD19d\"> <span class=\"qXLe6d x3G5ab\"> <span class=\"fYyStc\">Arthur Morgan is the best...</span> </span> <span class=\"qXLe6d F9iS2e\"> <span class=\"fYyStc\">www.reddit.com</span> </span> </div></a></td></tr></table></div></div> </div> </div></td></tr><tr><td align=\"center\" class=\"e3goi\"><div class=\"jjVJ4e\"> <div> <div class=\"lIMUZd\"><div><table class=\"RntSmf\"><tr><td><a href=\"/url?q=https://reddeadfanon.fandom.com/wiki/Arthur_Morgan&amp;sa=U&amp;ved=2ahUKEwiw_amSlqKDAxXqZmwGHdxSBBEQqoUBegQIERAB&amp;usg=AOvVaw3Z1kHshuu7F8rERrOcrQJ-\"><div class=\"kCmkOe\"><img alt=\"\" class=\"DS1iW\" src=\"https://encrypted-tbn0.gstatic.com/images?q=tbn:ANd9GcTgJScyzSVqm5Dml_kgCgtKgYBfu-fYloaBmXVZKl1DY8JcuEJt16NyaPrPrg&amp;s\"/></div></a></td></tr><tr><td><a href=\"/url?q=https://reddeadfanon.fandom.com/wiki/Arthur_Morgan&amp;sa=U&amp;ved=2ahUKEwiw_amSlqKDAxXqZmwGHdxSBBEQr4kDegQIERAC&amp;usg=AOvVaw2HEF4Cl_njHksKfmTkXKGf\"><div class=\"AlD19d\"> <span class=\"qXLe6d x3G5ab\"> <span class=\"fYyStc\">Arthur Morgan | Red Dead...</span> </span> <span class=\"qXLe6d F9iS2e\"> <span class=\"fYyStc\">reddeadfanon.fandom.com</span> </span> </div></a></td></tr></table></div></div> </div> </div></td><td align=\"center\" class=\"e3goi\"><div class=\"jjVJ4e\"> <div> <div class=\"lIMUZd\"><div><table class=\"RntSmf\"><tr><td><a href=\"/url?q=https://wallpapers.com/wallpapers/red-dead-redemption-arthur-morgan-art-eay003hikwfwmx2s.html&amp;sa=U&amp;ved=2ahUKEwiw_amSlqKDAxXqZmwGHdxSBBEQqoUBegQIDxAB&amp;usg=AOvVaw0JjZq_fM7rnOYyMqCtBLcj\"><div class=\"kCmkOe\"><img alt=\"\" class=\"DS1iW\" src=\"https://encrypted-tbn0.gstatic.com/images?q=tbn:ANd9GcRRV3RqnjhOKDhTbUQxAuUUE_sWfx3v1FLI-dmgbp1M24PQBJ-ocW91azCWrQ&amp;s\"/></div></a></td></tr><tr><td><a href=\"/url?q=https://wallpapers.com/wallpapers/red-dead-redemption-arthur-morgan-art-eay003hikwfwmx2s.html&amp;sa=U&amp;ved=2ahUKEwiw_amSlqKDAxXqZmwGHdxSBBEQr4kDegQIDxAC&amp;usg=AOvVaw06JcFiEFxMGmcqa5L8-ms3\"><div class=\"AlD19d\"> <span class=\"qXLe6d x3G5ab\"> <span class=\"fYyStc\">Download Arthur Morgan -...</span> </span> <span class=\"qXLe6d F9iS2e\"> <span class=\"fYyStc\">wallpapers.com</span> </span> </div></a></td></tr></table></div></div> </div> </div></td><td align=\"center\" class=\"e3goi\"><div class=\"jjVJ4e\"> <div> <div class=\"lIMUZd\"><div><table class=\"RntSmf\"><tr><td><a href=\"/url?q=https://in.ign.com/red-dead-redemption-2/122202/news/red-dead-redemption-2-who-is-arthur-morgan&amp;sa=U&amp;ved=2ahUKEwiw_amSlqKDAxXqZmwGHdxSBBEQqoUBegQIDBAB&amp;usg=AOvVaw0xEvDto7vSXSwa9GTeFmfB\"><div class=\"kCmkOe\"><img alt=\"\" class=\"DS1iW\" src=\"https://encrypted-tbn0.gstatic.com/images?q=tbn:ANd9GcTez5buTmfQBMLHxt7LOKomjpuEbLjrqQoVqMFdKawY53exZ2Sj5v7DKoxkQec&amp;s\"/></div></a></td></tr><tr><td><a href=\"/url?q=https://in.ign.com/red-dead-redemption-2/122202/news/red-dead-redemption-2-who-is-arthur-morgan&amp;sa=U&amp;ved=2ahUKEwiw_amSlqKDAxXqZmwGHdxSBBEQr4kDegQIDBAC&amp;usg=AOvVaw2uH7dfIcFOH1980VHbJNAY\"><div class=\"AlD19d\"> <span class=\"qXLe6d x3G5ab\"> <span class=\"fYyStc\">Red Dead Redemption 2: Who...</span> </span> <span class=\"qXLe6d F9iS2e\"> <span class=\"fYyStc\">in.ign.com</span> </span> </div></a></td></tr></table></div></div> </div> </div></td><td align=\"center\" class=\"e3goi\"><div class=\"jjVJ4e\"> <div> <div class=\"lIMUZd\"><div><table class=\"RntSmf\"><tr><td><a href=\"/url?q=https://www.reddit.com/r/reddeadredemption/comments/17rmum7/what_do_you_think_about_my_arthur_morgan_edit/&amp;sa=U&amp;ved=2ahUKEwiw_amSlqKDAxXqZmwGHdxSBBEQqoUBegQICxAB&amp;usg=AOvVaw1dspwX-OyuHi5dPA0d_pCi\"><div class=\"kCmkOe\"><img alt=\"\" class=\"DS1iW\" src=\"https://encrypted-tbn0.gstatic.com/images?q=tbn:ANd9GcQdlYGW9Y4ncdXEIX0ADUdFRYAl3gMaBTbKZprjXh-omDT6TKCgVm521xxgvXU&amp;s\"/></div></a></td></tr><tr><td><a href=\"/url?q=https://www.reddit.com/r/reddeadredemption/comments/17rmum7/what_do_you_think_about_my_arthur_morgan_edit/&amp;sa=U&amp;ved=2ahUKEwiw_amSlqKDAxXqZmwGHdxSBBEQr4kDegQICxAC&amp;usg=AOvVaw1tZfECwuTZYhYuc7rUZW-v\"><div class=\"AlD19d\"> <span class=\"qXLe6d x3G5ab\"> <span class=\"fYyStc\">What do you think about my...</span> </span> <span class=\"qXLe6d F9iS2e\"> <span class=\"fYyStc\">www.reddit.com</span> </span> </div></a></td></tr></table></div></div> </div> </div></td></tr><tr><td align=\"center\" class=\"e3goi\"><div class=\"jjVJ4e\"> <div> <div class=\"lIMUZd\"><div><table class=\"RntSmf\"><tr><td><a href=\"/url?q=https://gamerant.com/red-dead-redemption-2-rdr2-actors-could-play-arthur-morgan/&amp;sa=U&amp;ved=2ahUKEwiw_amSlqKDAxXqZmwGHdxSBBEQqoUBegQIDhAB&amp;usg=AOvVaw33H2we7qHQ1HIrla65_4PW\"><div class=\"kCmkOe\"><img alt=\"\" class=\"DS1iW\" src=\"https://encrypted-tbn0.gstatic.com/images?q=tbn:ANd9GcRwwIUVQ0QKSChlkoPI1Nz_TlazEuM45Ft-EP8kV5-hj9D31kbXal_DXqAKKA&amp;s\"/></div></a></td></tr><tr><td><a href=\"/url?q=https://gamerant.com/red-dead-redemption-2-rdr2-actors-could-play-arthur-morgan/&amp;sa=U&amp;ved=2ahUKEwiw_amSlqKDAxXqZmwGHdxSBBEQr4kDegQIDhAC&amp;usg=AOvVaw20xFACivKHgL3kgfO0j_hi\"><div class=\"AlD19d\"> <span class=\"qXLe6d x3G5ab\"> <span class=\"fYyStc\">Red Dead Redemption 2:...</span> </span> <span class=\"qXLe6d F9iS2e\"> <span class=\"fYyStc\">gamerant.com</span> </span> </div></a></td></tr></table></div></div> </div> </div></td><td align=\"center\" class=\"e3goi\"><div class=\"jjVJ4e\"> <div> <div class=\"lIMUZd\"><div><table class=\"RntSmf\"><tr><td><a href=\"/url?q=https://nordic.ign.com/grand-theft-auto-vi/76240/news/arthur-morgan-actor-certain-rockstar-will-make-red-dead-redemption-3-eventually&amp;sa=U&amp;ved=2ahUKEwiw_amSlqKDAxXqZmwGHdxSBBEQqoUBegQIChAB&amp;usg=AOvVaw0ymiLsCs8HIxPhGWyqxsTi\"><div class=\"kCmkOe\"><img alt=\"\" class=\"DS1iW\" src=\"https://encrypted-tbn0.gstatic.com/images?q=tbn:ANd9GcSrM1cYvrftvl5nPyjKkJGmgs5buL3ujogwrwROTynHFzRqdDEgtr8Dr058MA&amp;s\"/></div></a></td></tr><tr><td><a href=\"/url?q=https://nordic.ign.com/grand-theft-auto-vi/76240/news/arthur-morgan-actor-certain-rockstar-will-make-red-dead-redemption-3-eventually&amp;sa=U&amp;ved=2ahUKEwiw_amSlqKDAxXqZmwGHdxSBBEQr4kDegQIChAC&amp;usg=AOvVaw2kxrgrXyonQqmy_rSoa2bj\"><div class=\"AlD19d\"> <span class=\"qXLe6d x3G5ab\"> <span class=\"fYyStc\">Arthur Morgan Actor...</span> </span> <span class=\"qXLe6d F9iS2e\"> <span class=\"fYyStc\">nordic.ign.com</span> </span> </div></a></td></tr></table></div></div> </div> </div></td><td align=\"center\" class=\"e3goi\"><div class=\"jjVJ4e\"> <div> <div class=\"lIMUZd\"><div><table class=\"RntSmf\"><tr><td><a href=\"/url?q=https://www.pinterest.com/pin/arthur-morgan--471470654752791352/&amp;sa=U&amp;ved=2ahUKEwiw_amSlqKDAxXqZmwGHdxSBBEQqoUBegQICRAB&amp;usg=AOvVaw18JhlolkgWqB4yuGj9MA8K\"><div class=\"kCmkOe\"><img alt=\"\" class=\"DS1iW\" src=\"https://encrypted-tbn0.gstatic.com/images?q=tbn:ANd9GcT2Sm75B6Zz5QUNT3ubwbU2i6xerPXqHIXoeLBDZIPDu0FBlI3LUytYTYlwzYU&amp;s\"/></div></a></td></tr><tr><td><a href=\"/url?q=https://www.pinterest.com/pin/arthur-morgan--471470654752791352/&amp;sa=U&amp;ved=2ahUKEwiw_amSlqKDAxXqZmwGHdxSBBEQr4kDegQICRAC&amp;usg=AOvVaw1CNXsMEBn6CGPy5nTVTZFE\"><div class=\"AlD19d\"> <span class=\"qXLe6d x3G5ab\"> <span class=\"fYyStc\">Pin on Arthur Morgan</span> </span> <span class=\"qXLe6d F9iS2e\"> <span class=\"fYyStc\">www.pinterest.com</span> </span> </div></a></td></tr></table></div></div> </div> </div></td><td align=\"center\" class=\"e3goi\"><div class=\"jjVJ4e\"> <div> <div class=\"lIMUZd\"><div><table class=\"RntSmf\"><tr><td><a href=\"/url?q=https://www.wallpaperflare.com/search%3Fwallpaper%3DArthur%2BMorgan&amp;sa=U&amp;ved=2ahUKEwiw_amSlqKDAxXqZmwGHdxSBBEQqoUBegQIDRAB&amp;usg=AOvVaw2tS6F4_9R59Uc4VVvvMZYo\"><div class=\"kCmkOe\"><img alt=\"\" class=\"DS1iW\" src=\"https://encrypted-tbn0.gstatic.com/images?q=tbn:ANd9GcRWBWcaLxe8wYEG4q_4kIh_AXg7UDnIQUfNwAlZaBChcfrryL5f9E_TWZGRyQ&amp;s\"/></div></a></td></tr><tr><td><a href=\"/url?q=https://www.wallpaperflare.com/search%3Fwallpaper%3DArthur%2BMorgan&amp;sa=U&amp;ved=2ahUKEwiw_amSlqKDAxXqZmwGHdxSBBEQr4kDegQIDRAC&amp;usg=AOvVaw0eClVAuoqGGFGt6cYiFRtf\"><div class=\"AlD19d\"> <span class=\"qXLe6d x3G5ab\"> <span class=\"fYyStc\">Arthur Morgan 1080P, 2K,...</span> </span> <span class=\"qXLe6d F9iS2e\"> <span class=\"fYyStc\">www.wallpaperflare.com</span> </span> </div></a></td></tr></table></div></div> </div> </div></td></tr><tr><td align=\"center\" class=\"e3goi\"><div class=\"jjVJ4e\"> <div> <div class=\"lIMUZd\"><div><table class=\"RntSmf\"><tr><td><a href=\"/url?q=https://wallpapers.com/background/pixel-3xl-red-dead-redemption-2-background-arthur-morgan-black-suit-a3z0xbsqbqrczt1a.html&amp;sa=U&amp;ved=2ahUKEwiw_amSlqKDAxXqZmwGHdxSBBEQqoUBegQIBBAB&amp;usg=AOvVaw2vuCyggmToGUdadbwdYg_s\"><div class=\"kCmkOe\"><img alt=\"\" class=\"DS1iW\" src=\"https://encrypted-tbn0.gstatic.com/images?q=tbn:ANd9GcRRV4DC-hDtoPTBNQVWnGohvJ9mUQm33OkSWoTlCLZM98fmHwIndcYtJBxSfXM&amp;s\"/></div></a></td></tr><tr><td><a href=\"/url?q=https://wallpapers.com/background/pixel-3xl-red-dead-redemption-2-background-arthur-morgan-black-suit-a3z0xbsqbqrczt1a.html&amp;sa=U&amp;ved=2ahUKEwiw_amSlqKDAxXqZmwGHdxSBBEQr4kDegQIBBAC&amp;usg=AOvVaw2G23gUiJYtiqeniOEwhqVN\"><div class=\"AlD19d\"> <span class=\"qXLe6d x3G5ab\"> <span class=\"fYyStc\">Download Pixel 3xl Red Dead...</span> </span> <span class=\"qXLe6d F9iS2e\"> <span class=\"fYyStc\">wallpapers.com</span> </span> </div></a></td></tr></table></div></div> </div> </div></td><td align=\"center\" class=\"e3goi\"><div class=\"jjVJ4e\"> <div> <div class=\"lIMUZd\"><div><table class=\"RntSmf\"><tr><td><a href=\"/url?q=https://www.rockstargames.com/newswire/article/o34o4o4k3342a8/fan-art-arthur-morgan-artwork&amp;sa=U&amp;ved=2ahUKEwiw_amSlqKDAxXqZmwGHdxSBBEQqoUBegQIBxAB&amp;usg=AOvVaw3D_iU5pFkSBd68W2dA7ysR\"><div class=\"kCmkOe\"><img alt=\"\" class=\"DS1iW\" src=\"https://encrypted-tbn0.gstatic.com/images?q=tbn:ANd9GcQL0GlQrJ1XB6RQFFkw2tGodsf7nw6APUMyLLpj0nrBNEdF5mirzVKWhdjuiaw&amp;s\"/></div></a></td></tr><tr><td><a href=\"/url?q=https://www.rockstargames.com/newswire/article/o34o4o4k3342a8/fan-art-arthur-morgan-artwork&amp;sa=U&amp;ved=2ahUKEwiw_amSlqKDAxXqZmwGHdxSBBEQr4kDegQIBxAC&amp;usg=AOvVaw1qhFnWxO0ToqgbWIaPPJFY\"><div class=\"AlD19d\"> <span class=\"qXLe6d x3G5ab\"> <span class=\"fYyStc\">Fan Art: Arthur Morgan...</span> </span> <span class=\"qXLe6d F9iS2e\"> <span class=\"fYyStc\">www.rockstargames.com</span> </span> </div></a></td></tr></table></div></div> </div> </div></td><td align=\"center\" class=\"e3goi\"><div class=\"jjVJ4e\"> <div> <div class=\"lIMUZd\"><div><table class=\"RntSmf\"><tr><td><a href=\"/url?q=https://tvtropes.org/pmwiki/pmwiki.php/Characters/RedDeadRedemptionArthurMorgan&amp;sa=U&amp;ved=2ahUKEwiw_amSlqKDAxXqZmwGHdxSBBEQqoUBegQIARAB&amp;usg=AOvVaw0UNMACOy2UkeN9OdVok-p6\"><div class=\"kCmkOe\"><img alt=\"\" class=\"DS1iW\" src=\"https://encrypted-tbn0.gstatic.com/images?q=tbn:ANd9GcRUaLvkMU332zAxitMYs-roejaJbNCOtMXXitbyj0EQPx-k7vzeauGx16xe3F0&amp;s\"/></div></a></td></tr><tr><td><a href=\"/url?q=https://tvtropes.org/pmwiki/pmwiki.php/Characters/RedDeadRedemptionArthurMorgan&amp;sa=U&amp;ved=2ahUKEwiw_amSlqKDAxXqZmwGHdxSBBEQr4kDegQIARAC&amp;usg=AOvVaw0S9FONNbWj02kXPpOt5wYn\"><div class=\"AlD19d\"> <span class=\"qXLe6d x3G5ab\"> <span class=\"fYyStc\">Red Dead Redemption –...</span> </span> <span class=\"qXLe6d F9iS2e\"> <span class=\"fYyStc\">tvtropes.org</span> </span> </div></a></td></tr></table></div></div> </div> </div></td><td align=\"center\" class=\"e3goi\"><div class=\"jjVJ4e\"> <div> <div class=\"lIMUZd\"><div><table class=\"RntSmf\"><tr><td><a href=\"/url?q=https://wallhere.com/en/wallpaper/2230432&amp;sa=U&amp;ved=2ahUKEwiw_amSlqKDAxXqZmwGHdxSBBEQqoUBegQIAxAB&amp;usg=AOvVaw1NR97PZvxl4x9uStnq_Cyv\"><div class=\"kCmkOe\"><img alt=\"\" class=\"DS1iW\" src=\"https://encrypted-tbn0.gstatic.com/images?q=tbn:ANd9GcRcYcqJhkkVcHWsXv8ZCsn5nFCQlnhcj9rIGWn3DkwKVaH4zzdPZ7NrgmJPllw&amp;s\"/></div></a></td></tr><tr><td><a href=\"/url?q=https://wallhere.com/en/wallpaper/2230432&amp;sa=U&amp;ved=2ahUKEwiw_amSlqKDAxXqZmwGHdxSBBEQr4kDegQIAxAC&amp;usg=AOvVaw1GAKAXRDbpCgSojA1qjWqn\"><div class=\"AlD19d\"> <span class=\"qXLe6d x3G5ab\"> <span class=\"fYyStc\">Wallpaper : Red Dead...</span> </span> <span class=\"qXLe6d F9iS2e\"> <span class=\"fYyStc\">wallhere.com</span> </span> </div></a></td></tr></table></div></div> </div> </div></td></tr><tr><td align=\"center\" class=\"e3goi\"><div class=\"jjVJ4e\"> <div> <div class=\"lIMUZd\"><div><table class=\"RntSmf\"><tr><td><a href=\"/url?q=https://wall.alphacoders.com/big.php%3Fi%3D952674&amp;sa=U&amp;ved=2ahUKEwiw_amSlqKDAxXqZmwGHdxSBBEQqoUBegQIBRAB&amp;usg=AOvVaw3cFRPu9HJ6Ok7oJwvMfhzl\"><div class=\"kCmkOe\"><img alt=\"\" class=\"DS1iW\" src=\"https://encrypted-tbn0.gstatic.com/images?q=tbn:ANd9GcTypFbI9fu6ePAJCckEvKAzuE5kQJ7XVY1xhmrUgibiNE9oSMObC4oMwcvUYig&amp;s\"/></div></a></td></tr><tr><td><a href=\"/url?q=https://wall.alphacoders.com/big.php%3Fi%3D952674&amp;sa=U&amp;ved=2ahUKEwiw_amSlqKDAxXqZmwGHdxSBBEQr4kDegQIBRAC&amp;usg=AOvVaw1GIGcB512cTP1dZDgkxsyT\"><div class=\"AlD19d\"> <span class=\"qXLe6d x3G5ab\"> <span class=\"fYyStc\">Arthur Morgan</span> </span> <span class=\"qXLe6d F9iS2e\"> <span class=\"fYyStc\">wall.alphacoders.com</span> </span> </div></a></td></tr></table></div></div> </div> </div></td><td align=\"center\" class=\"e3goi\"><div class=\"jjVJ4e\"> <div> <div class=\"lIMUZd\"><div><table class=\"RntSmf\"><tr><td><a href=\"/url?q=https://www.watchmojo.com/articles/arthur-morgan-s-origin-story&amp;sa=U&amp;ved=2ahUKEwiw_amSlqKDAxXqZmwGHdxSBBEQqoUBegQICBAB&amp;usg=AOvVaw0v-X7jqB491jJa-Vrlk3Js\"><div class=\"kCmkOe\"><img alt=\"\" class=\"DS1iW\" src=\"https://encrypted-tbn0.gstatic.com/images?q=tbn:ANd9GcTPEyfCO9OJA0pe6K5HKNYjo7uxfwr_eQwWej-PvO12sOm0TbXWX_o1bsIw8oc&amp;s\"/></div></a></td></tr><tr><td><a href=\"/url?q=https://www.watchmojo.com/articles/arthur-morgan-s-origin-story&amp;sa=U&amp;ved=2ahUKEwiw_amSlqKDAxXqZmwGHdxSBBEQr4kDegQICBAC&amp;usg=AOvVaw2OQw3k5ss0xD0LT3DQNKge\"><div class=\"AlD19d\"> <span class=\"qXLe6d x3G5ab\"> <span class=\"fYyStc\">Arthur Morgan's Origin...</span> </span> <span class=\"qXLe6d F9iS2e\"> <span class=\"fYyStc\">www.watchmojo.com</span> </span> </div></a></td></tr></table></div></div> </div> </div></td><td align=\"center\" class=\"e3goi\"><div class=\"jjVJ4e\"> <div> <div class=\"lIMUZd\"><div><table class=\"RntSmf\"><tr><td><a href=\"/url?q=https://www.wallpaperflare.com/red-dead-redemption-2-arthur-morgan-rockstar-games-video-games-wallpaper-yjteh&amp;sa=U&amp;ved=2ahUKEwiw_amSlqKDAxXqZmwGHdxSBBEQqoUBegQIBhAB&amp;usg=AOvVaw0_VVGqRU_fl-DuV8mWC4LU\"><div class=\"kCmkOe\"><img alt=\"\" class=\"DS1iW\" src=\"https://encrypted-tbn0.gstatic.com/images?q=tbn:ANd9GcQeExwWKlKY9SZ-DCXxMEe1vbOYzcDiqkkWtciEz9gwgTRP8VwMUYdyyAvEVw&amp;s\"/></div></a></td></tr><tr><td><a href=\"/url?q=https://www.wallpaperflare.com/red-dead-redemption-2-arthur-morgan-rockstar-games-video-games-wallpaper-yjteh&amp;sa=U&amp;ved=2ahUKEwiw_amSlqKDAxXqZmwGHdxSBBEQr4kDegQIBhAC&amp;usg=AOvVaw0VzTLSJGi96KMs828yPlU-\"><div class=\"AlD19d\"> <span class=\"qXLe6d x3G5ab\"> <span class=\"fYyStc\">HD wallpaper: Red Dead...</span> </span> <span class=\"qXLe6d F9iS2e\"> <span class=\"fYyStc\">www.wallpaperflare.com</span> </span> </div></a></td></tr></table></div></div> </div> </div></td><td align=\"center\" class=\"e3goi\"><div class=\"jjVJ4e\"> <div> <div class=\"lIMUZd\"><div><table class=\"RntSmf\"><tr><td><a href=\"/url?q=https://www.peakpx.com/en/hd-wallpaper-desktop-gziov&amp;sa=U&amp;ved=2ahUKEwiw_amSlqKDAxXqZmwGHdxSBBEQqoUBegQIABAB&amp;usg=AOvVaw1u2UK-TAGnbgoa9tCrWB1r\"><div class=\"kCmkOe\"><img alt=\"\" class=\"DS1iW\" src=\"https://encrypted-tbn0.gstatic.com/images?q=tbn:ANd9GcTvn55HfFhQA1oBTs0eKDcnfmHJZJXb0rvcIEz7s1CaDDZiPI-AypMbdRvCjQ&amp;s\"/></div></a></td></tr><tr><td><a href=\"/url?q=https://www.peakpx.com/en/hd-wallpaper-desktop-gziov&amp;sa=U&amp;ved=2ahUKEwiw_amSlqKDAxXqZmwGHdxSBBEQr4kDegQIABAC&amp;usg=AOvVaw31geFhWA1XX-vHm0-9DcMN\"><div class=\"AlD19d\"> <span class=\"qXLe6d x3G5ab\"> <span class=\"fYyStc\">Red dead redemption2,...</span> </span> <span class=\"qXLe6d F9iS2e\"> <span class=\"fYyStc\">www.peakpx.com</span> </span> </div></a></td></tr></table></div></div> </div> </div></td></tr></table></div><table class=\"uZgmoc\"><tbody><td><a class=\"frGj1b\" href=\"/search?q=arthur+morgan&amp;sca_esv=592991994&amp;hl=en&amp;biw=1389&amp;bih=788&amp;ie=UTF-8&amp;tbm=isch&amp;ei=_guFZbCGOOrNseMP3KWRiAE&amp;start=20&amp;sa=N\">Next &gt;</a></td></tbody></table><br/><div class=\"TuS8Ad\" data-ved=\"0ahUKEwiw_amSlqKDAxXqZmwGHdxSBBEQpyoIUg\"><style>.VYM29{font-weight:bold}</style><div align=\"center\" class=\"HddGcc\"><span class=\"VYM29\">400615, Thane, Maharashtra</span><span> - </span><span>From your IP address</span><span> - </span><a href=\"/url?q=https://support.google.com/websearch%3Fp%3Dws_settings_location%26hl%3Den-IN&amp;opi=89978449&amp;sa=U&amp;ved=0ahUKEwiw_amSlqKDAxXqZmwGHdxSBBEQty4IUw&amp;usg=AOvVaw2Vb9yq1J7Jj7l1k4bIE0Pq\">Learn more</a></div><div align=\"center\"><a class=\"rEM8G\" href=\"/url?q=https://accounts.google.com/ServiceLogin%3Fcontinue%3Dhttps://www.google.com/search%253Fq%253Darthur%252Bmorgan%2526sca_esv%253D592991994%2526hl%253Den%2526tbm%253Disch%2526source%253Dhp%2526biw%253D1389%2526bih%253D788%2526ei%253DAAaFZcqtEcr2seMP5O6ekAs%2526iflsig%253DAO6bgOgAAAAAZYUUEENE7qWHW5wARbWXbZVTktFlef9L%2526ved%253D0ahUKEwjKrce2kKKDAxVKe2wGHWS3B7IQ4dUDCAc%2526uact%253D5%2526oq%253Dpikachu%2526gs_lp%253DEgNpbWciB3Bpa2FjaHUyCBAAGIAEGLEDMggQABiABBixAzIIEAAYgAQYsQMyCBAAGIAEGLEDMggQABiABBixAzIIEAAYgAQYsQMyCBAAGIAEGLEDMggQABiABBixAzIFEAAYgAQyBRAAGIAESMQeUM0VWI8dcAJ4AJABAJgBd6ABhAaqAQMwLje4AQPIAQD4AQGKAgtnd3Mtd2l6LWltZ6gCAA%2526sclient%253Dimg%26hl%3Den&amp;opi=89978449&amp;sa=U&amp;ved=0ahUKEwiw_amSlqKDAxXqZmwGHdxSBBEQxs8CCFQ&amp;usg=AOvVaw25di0V-R1XsKw5BonO9kCA\">Sign in</a></div><div><table class=\"bookcf\"><tbody class=\"InWNIe\"><tr><td><a class=\"rEM8G\" href=\"https://www.google.com/preferences?hl=en&amp;sa=X&amp;ved=0ahUKEwiw_amSlqKDAxXqZmwGHdxSBBEQv5YECFU\">Settings</a></td><td><a class=\"rEM8G\" href=\"https://www.google.com/intl/en_in/policies/privacy/\">Privacy</a></td><td><a class=\"rEM8G\" href=\"https://www.google.com/intl/en_in/policies/terms/\">Terms</a></td></tr></tbody></table></div></div><div> </div></body></html>\n"
     ]
    }
   ],
   "source": [
    "# give the content from the response in the form of html\n",
    "soup = BeautifulSoup(response.content, 'html.parser')\n",
    "print(soup)"
   ]
  },
  {
   "cell_type": "code",
   "execution_count": 39,
   "id": "09f7f3eb-6c11-4189-948b-d9f6b95e5f90",
   "metadata": {},
   "outputs": [],
   "source": [
    "# finding all the images with help of img tag in html\n",
    "image_tags = soup.find_all('img')"
   ]
  },
  {
   "cell_type": "code",
   "execution_count": 40,
   "id": "95533bbf-1923-43da-b258-951e74c07187",
   "metadata": {},
   "outputs": [
    {
     "name": "stdout",
     "output_type": "stream",
     "text": [
      "21\n"
     ]
    }
   ],
   "source": [
    "# printing the length of image_tags\n",
    "print(len(image_tags))"
   ]
  },
  {
   "cell_type": "code",
   "execution_count": 41,
   "id": "937d4120-e82c-4350-8172-7856922066c4",
   "metadata": {},
   "outputs": [
    {
     "data": {
      "text/plain": [
       "[<img alt=\"Google\" class=\"kgJEQe\" src=\"/images/branding/searchlogo/1x/googlelogo_desk_heirloom_color_150x55dp.gif\"/>,\n",
       " <img alt=\"\" class=\"DS1iW\" src=\"https://encrypted-tbn0.gstatic.com/images?q=tbn:ANd9GcQCtSn1XaDCGSNb8Q5eHcjvnWmYlQRy1wm7HH1e4qCJFRAjZZLaYaDTJAFTcg&amp;s\"/>,\n",
       " <img alt=\"\" class=\"DS1iW\" src=\"https://encrypted-tbn0.gstatic.com/images?q=tbn:ANd9GcQgoQsLFeC9xiKp2YKcBzCk6prxxvXeyN7Kc34Q6dzXYzBi__8yTjcqjHe4fg&amp;s\"/>,\n",
       " <img alt=\"\" class=\"DS1iW\" src=\"https://encrypted-tbn0.gstatic.com/images?q=tbn:ANd9GcRQlFb9leLbs0KZW01Kg_CoSoTuSufeJ0-KEevi0CAb5HjubA1FsiGHjnf0yQ&amp;s\"/>,\n",
       " <img alt=\"\" class=\"DS1iW\" src=\"https://encrypted-tbn0.gstatic.com/images?q=tbn:ANd9GcQM9QhcpEDXV5N-3emwLnETcI9WBH3vTy21iUMW3DQmgX9Tb2EgGeOvAJObWg&amp;s\"/>,\n",
       " <img alt=\"\" class=\"DS1iW\" src=\"https://encrypted-tbn0.gstatic.com/images?q=tbn:ANd9GcTgJScyzSVqm5Dml_kgCgtKgYBfu-fYloaBmXVZKl1DY8JcuEJt16NyaPrPrg&amp;s\"/>,\n",
       " <img alt=\"\" class=\"DS1iW\" src=\"https://encrypted-tbn0.gstatic.com/images?q=tbn:ANd9GcRRV3RqnjhOKDhTbUQxAuUUE_sWfx3v1FLI-dmgbp1M24PQBJ-ocW91azCWrQ&amp;s\"/>,\n",
       " <img alt=\"\" class=\"DS1iW\" src=\"https://encrypted-tbn0.gstatic.com/images?q=tbn:ANd9GcTez5buTmfQBMLHxt7LOKomjpuEbLjrqQoVqMFdKawY53exZ2Sj5v7DKoxkQec&amp;s\"/>,\n",
       " <img alt=\"\" class=\"DS1iW\" src=\"https://encrypted-tbn0.gstatic.com/images?q=tbn:ANd9GcQdlYGW9Y4ncdXEIX0ADUdFRYAl3gMaBTbKZprjXh-omDT6TKCgVm521xxgvXU&amp;s\"/>,\n",
       " <img alt=\"\" class=\"DS1iW\" src=\"https://encrypted-tbn0.gstatic.com/images?q=tbn:ANd9GcRwwIUVQ0QKSChlkoPI1Nz_TlazEuM45Ft-EP8kV5-hj9D31kbXal_DXqAKKA&amp;s\"/>,\n",
       " <img alt=\"\" class=\"DS1iW\" src=\"https://encrypted-tbn0.gstatic.com/images?q=tbn:ANd9GcSrM1cYvrftvl5nPyjKkJGmgs5buL3ujogwrwROTynHFzRqdDEgtr8Dr058MA&amp;s\"/>,\n",
       " <img alt=\"\" class=\"DS1iW\" src=\"https://encrypted-tbn0.gstatic.com/images?q=tbn:ANd9GcT2Sm75B6Zz5QUNT3ubwbU2i6xerPXqHIXoeLBDZIPDu0FBlI3LUytYTYlwzYU&amp;s\"/>,\n",
       " <img alt=\"\" class=\"DS1iW\" src=\"https://encrypted-tbn0.gstatic.com/images?q=tbn:ANd9GcRWBWcaLxe8wYEG4q_4kIh_AXg7UDnIQUfNwAlZaBChcfrryL5f9E_TWZGRyQ&amp;s\"/>,\n",
       " <img alt=\"\" class=\"DS1iW\" src=\"https://encrypted-tbn0.gstatic.com/images?q=tbn:ANd9GcRRV4DC-hDtoPTBNQVWnGohvJ9mUQm33OkSWoTlCLZM98fmHwIndcYtJBxSfXM&amp;s\"/>,\n",
       " <img alt=\"\" class=\"DS1iW\" src=\"https://encrypted-tbn0.gstatic.com/images?q=tbn:ANd9GcQL0GlQrJ1XB6RQFFkw2tGodsf7nw6APUMyLLpj0nrBNEdF5mirzVKWhdjuiaw&amp;s\"/>,\n",
       " <img alt=\"\" class=\"DS1iW\" src=\"https://encrypted-tbn0.gstatic.com/images?q=tbn:ANd9GcRUaLvkMU332zAxitMYs-roejaJbNCOtMXXitbyj0EQPx-k7vzeauGx16xe3F0&amp;s\"/>,\n",
       " <img alt=\"\" class=\"DS1iW\" src=\"https://encrypted-tbn0.gstatic.com/images?q=tbn:ANd9GcRcYcqJhkkVcHWsXv8ZCsn5nFCQlnhcj9rIGWn3DkwKVaH4zzdPZ7NrgmJPllw&amp;s\"/>,\n",
       " <img alt=\"\" class=\"DS1iW\" src=\"https://encrypted-tbn0.gstatic.com/images?q=tbn:ANd9GcTypFbI9fu6ePAJCckEvKAzuE5kQJ7XVY1xhmrUgibiNE9oSMObC4oMwcvUYig&amp;s\"/>,\n",
       " <img alt=\"\" class=\"DS1iW\" src=\"https://encrypted-tbn0.gstatic.com/images?q=tbn:ANd9GcTPEyfCO9OJA0pe6K5HKNYjo7uxfwr_eQwWej-PvO12sOm0TbXWX_o1bsIw8oc&amp;s\"/>,\n",
       " <img alt=\"\" class=\"DS1iW\" src=\"https://encrypted-tbn0.gstatic.com/images?q=tbn:ANd9GcQeExwWKlKY9SZ-DCXxMEe1vbOYzcDiqkkWtciEz9gwgTRP8VwMUYdyyAvEVw&amp;s\"/>,\n",
       " <img alt=\"\" class=\"DS1iW\" src=\"https://encrypted-tbn0.gstatic.com/images?q=tbn:ANd9GcTvn55HfFhQA1oBTs0eKDcnfmHJZJXb0rvcIEz7s1CaDDZiPI-AypMbdRvCjQ&amp;s\"/>]"
      ]
     },
     "execution_count": 41,
     "metadata": {},
     "output_type": "execute_result"
    }
   ],
   "source": [
    "# lets look at content for image tags\n",
    "# since first one doesnt look like url we will delete first item of the list\n",
    "image_tags"
   ]
  },
  {
   "cell_type": "code",
   "execution_count": 42,
   "id": "148afa0e-ad74-4b9c-8cde-4d88d39f8d69",
   "metadata": {},
   "outputs": [],
   "source": [
    "# deleting first item of list from image tag\n",
    "del image_tags[0]"
   ]
  },
  {
   "cell_type": "code",
   "execution_count": 43,
   "id": "93ce1891-5e57-4751-b99d-90656f38af1f",
   "metadata": {},
   "outputs": [
    {
     "data": {
      "text/plain": [
       "[<img alt=\"\" class=\"DS1iW\" src=\"https://encrypted-tbn0.gstatic.com/images?q=tbn:ANd9GcQCtSn1XaDCGSNb8Q5eHcjvnWmYlQRy1wm7HH1e4qCJFRAjZZLaYaDTJAFTcg&amp;s\"/>,\n",
       " <img alt=\"\" class=\"DS1iW\" src=\"https://encrypted-tbn0.gstatic.com/images?q=tbn:ANd9GcQgoQsLFeC9xiKp2YKcBzCk6prxxvXeyN7Kc34Q6dzXYzBi__8yTjcqjHe4fg&amp;s\"/>,\n",
       " <img alt=\"\" class=\"DS1iW\" src=\"https://encrypted-tbn0.gstatic.com/images?q=tbn:ANd9GcRQlFb9leLbs0KZW01Kg_CoSoTuSufeJ0-KEevi0CAb5HjubA1FsiGHjnf0yQ&amp;s\"/>,\n",
       " <img alt=\"\" class=\"DS1iW\" src=\"https://encrypted-tbn0.gstatic.com/images?q=tbn:ANd9GcQM9QhcpEDXV5N-3emwLnETcI9WBH3vTy21iUMW3DQmgX9Tb2EgGeOvAJObWg&amp;s\"/>,\n",
       " <img alt=\"\" class=\"DS1iW\" src=\"https://encrypted-tbn0.gstatic.com/images?q=tbn:ANd9GcTgJScyzSVqm5Dml_kgCgtKgYBfu-fYloaBmXVZKl1DY8JcuEJt16NyaPrPrg&amp;s\"/>,\n",
       " <img alt=\"\" class=\"DS1iW\" src=\"https://encrypted-tbn0.gstatic.com/images?q=tbn:ANd9GcRRV3RqnjhOKDhTbUQxAuUUE_sWfx3v1FLI-dmgbp1M24PQBJ-ocW91azCWrQ&amp;s\"/>,\n",
       " <img alt=\"\" class=\"DS1iW\" src=\"https://encrypted-tbn0.gstatic.com/images?q=tbn:ANd9GcTez5buTmfQBMLHxt7LOKomjpuEbLjrqQoVqMFdKawY53exZ2Sj5v7DKoxkQec&amp;s\"/>,\n",
       " <img alt=\"\" class=\"DS1iW\" src=\"https://encrypted-tbn0.gstatic.com/images?q=tbn:ANd9GcQdlYGW9Y4ncdXEIX0ADUdFRYAl3gMaBTbKZprjXh-omDT6TKCgVm521xxgvXU&amp;s\"/>,\n",
       " <img alt=\"\" class=\"DS1iW\" src=\"https://encrypted-tbn0.gstatic.com/images?q=tbn:ANd9GcRwwIUVQ0QKSChlkoPI1Nz_TlazEuM45Ft-EP8kV5-hj9D31kbXal_DXqAKKA&amp;s\"/>,\n",
       " <img alt=\"\" class=\"DS1iW\" src=\"https://encrypted-tbn0.gstatic.com/images?q=tbn:ANd9GcSrM1cYvrftvl5nPyjKkJGmgs5buL3ujogwrwROTynHFzRqdDEgtr8Dr058MA&amp;s\"/>,\n",
       " <img alt=\"\" class=\"DS1iW\" src=\"https://encrypted-tbn0.gstatic.com/images?q=tbn:ANd9GcT2Sm75B6Zz5QUNT3ubwbU2i6xerPXqHIXoeLBDZIPDu0FBlI3LUytYTYlwzYU&amp;s\"/>,\n",
       " <img alt=\"\" class=\"DS1iW\" src=\"https://encrypted-tbn0.gstatic.com/images?q=tbn:ANd9GcRWBWcaLxe8wYEG4q_4kIh_AXg7UDnIQUfNwAlZaBChcfrryL5f9E_TWZGRyQ&amp;s\"/>,\n",
       " <img alt=\"\" class=\"DS1iW\" src=\"https://encrypted-tbn0.gstatic.com/images?q=tbn:ANd9GcRRV4DC-hDtoPTBNQVWnGohvJ9mUQm33OkSWoTlCLZM98fmHwIndcYtJBxSfXM&amp;s\"/>,\n",
       " <img alt=\"\" class=\"DS1iW\" src=\"https://encrypted-tbn0.gstatic.com/images?q=tbn:ANd9GcQL0GlQrJ1XB6RQFFkw2tGodsf7nw6APUMyLLpj0nrBNEdF5mirzVKWhdjuiaw&amp;s\"/>,\n",
       " <img alt=\"\" class=\"DS1iW\" src=\"https://encrypted-tbn0.gstatic.com/images?q=tbn:ANd9GcRUaLvkMU332zAxitMYs-roejaJbNCOtMXXitbyj0EQPx-k7vzeauGx16xe3F0&amp;s\"/>,\n",
       " <img alt=\"\" class=\"DS1iW\" src=\"https://encrypted-tbn0.gstatic.com/images?q=tbn:ANd9GcRcYcqJhkkVcHWsXv8ZCsn5nFCQlnhcj9rIGWn3DkwKVaH4zzdPZ7NrgmJPllw&amp;s\"/>,\n",
       " <img alt=\"\" class=\"DS1iW\" src=\"https://encrypted-tbn0.gstatic.com/images?q=tbn:ANd9GcTypFbI9fu6ePAJCckEvKAzuE5kQJ7XVY1xhmrUgibiNE9oSMObC4oMwcvUYig&amp;s\"/>,\n",
       " <img alt=\"\" class=\"DS1iW\" src=\"https://encrypted-tbn0.gstatic.com/images?q=tbn:ANd9GcTPEyfCO9OJA0pe6K5HKNYjo7uxfwr_eQwWej-PvO12sOm0TbXWX_o1bsIw8oc&amp;s\"/>,\n",
       " <img alt=\"\" class=\"DS1iW\" src=\"https://encrypted-tbn0.gstatic.com/images?q=tbn:ANd9GcQeExwWKlKY9SZ-DCXxMEe1vbOYzcDiqkkWtciEz9gwgTRP8VwMUYdyyAvEVw&amp;s\"/>,\n",
       " <img alt=\"\" class=\"DS1iW\" src=\"https://encrypted-tbn0.gstatic.com/images?q=tbn:ANd9GcTvn55HfFhQA1oBTs0eKDcnfmHJZJXb0rvcIEz7s1CaDDZiPI-AypMbdRvCjQ&amp;s\"/>]"
      ]
     },
     "execution_count": 43,
     "metadata": {},
     "output_type": "execute_result"
    }
   ],
   "source": [
    "# now it looks promising\n",
    "image_tags"
   ]
  },
  {
   "cell_type": "code",
   "execution_count": 44,
   "id": "596f9d0b-9705-4a1b-be2f-b337aeeeb254",
   "metadata": {},
   "outputs": [
    {
     "data": {
      "text/plain": [
       "'https://encrypted-tbn0.gstatic.com/images?q=tbn:ANd9GcQCtSn1XaDCGSNb8Q5eHcjvnWmYlQRy1wm7HH1e4qCJFRAjZZLaYaDTJAFTcg&s'"
      ]
     },
     "execution_count": 44,
     "metadata": {},
     "output_type": "execute_result"
    }
   ],
   "source": [
    "# to extract the link for the first link\n",
    "# since src is in the key value format\n",
    "image_tags[0]['src']"
   ]
  },
  {
   "cell_type": "code",
   "execution_count": 45,
   "id": "a5e92772-e00a-402d-99f2-ebfb05094b1f",
   "metadata": {},
   "outputs": [
    {
     "data": {
      "text/plain": [
       "b'\\xff\\xd8\\xff\\xe0\\x00\\x10JFIF\\x00\\x01\\x01\\x00\\x00\\x01\\x00\\x01\\x00\\x00\\xff\\xdb\\x00\\x84\\x00\\t\\x06\\x07\\x08\\x07\\x06\\t\\x08\\x07\\x08\\n\\n\\t\\x0b\\r\\x16\\x0f\\r\\x0c\\x0c\\r\\x1b\\x14\\x15\\x10\\x16 \\x1d\"\" \\x1d\\x1f\\x1f$(4,$&1\\'\\x1f\\x1f-=-157:::#+?D?8C49:7\\x01\\n\\n\\n\\r\\x0c\\r\\x1a\\x0f\\x0f\\x1a7%\\x1f%77777777777777777777777777777777777777777777777777\\xff\\xc0\\x00\\x11\\x08\\x00\\x8c\\x005\\x03\\x01\"\\x00\\x02\\x11\\x01\\x03\\x11\\x01\\xff\\xc4\\x00\\x1c\\x00\\x00\\x02\\x03\\x01\\x01\\x01\\x01\\x00\\x00\\x00\\x00\\x00\\x00\\x00\\x00\\x00\\x00\\x07\\x05\\x06\\x08\\x03\\x04\\x02\\x01\\xff\\xc4\\x00@\\x10\\x00\\x02\\x01\\x03\\x02\\x03\\x05\\x06\\x03\\x04\\x07\\t\\x00\\x00\\x00\\x00\\x01\\x02\\x03\\x00\\x04\\x11\\x05\\x12\\x06!1\\x07\\x13AQa\\x14\"q\\x81\\x91\\xa1#2B\\xa2\\xb1\\xc1\\xe1\\x15Rb\\xb2\\xc2\\xd1\\xf0\\x16$34CSr\\x82\\x92\\xff\\xc4\\x00\\x18\\x01\\x00\\x03\\x01\\x01\\x00\\x00\\x00\\x00\\x00\\x00\\x00\\x00\\x00\\x00\\x00\\x00\\x00\\x01\\x02\\x03\\x04\\xff\\xc4\\x00\\x1e\\x11\\x00\\x03\\x00\\x02\\x03\\x01\\x01\\x01\\x00\\x00\\x00\\x00\\x00\\x00\\x00\\x00\\x00\\x01\\x02\\x111\\x03\\x12!AQ\\x13\\xff\\xda\\x00\\x0c\\x03\\x01\\x00\\x02\\x11\\x03\\x11\\x00?\\x00x\\xd1E\\x14\\x01\\xe6\\xbd\\xbd\\x86\\xc5\\x12K\\x97\\x11\\xc4\\xce\\x10\\xc8\\xc7\\n\\xa4\\xf4\\xc9\\xf0\\xc9\\xc0\\xf8\\x91J~\\xd08\\x96\\xf2\\xfb]xt\\xcb\\xb9F\\x97i\\x1e%\\xee\\x9f\\xdd\\x99\\xf3\\x93\\xc8u\\x1d\\x07?#M-z\\xd6+\\xed\\x16\\xfa\\xd6tW\\x8eX\\x1dY[\\xe0k>\\xeb\\x1c=kg\\x04W6\\x93\\x14fU\\xe4\\xaf\\x86$\\xe3\\xd6\\xa2\\xeb\\x0f\\x05\\xc4:YE\\xe3\\xb2\\x0e)\\xd65\\x1b\\xa7\\xd2\\xee\\x99&\\xb5\\x85I\\x0c\\xe0\\xefN\\xbc\\x81\\xf1\\xf8\\x1f\\x97\\x956k<p\\xb6\\xb1\\xaap\\xa6\\xa8\\x93\\xda@/\\xfd\\xa4l\\xf6p\\xc7s\\xf3 \\x1e@\\x9f\\x0f/\\x1a{\\xe8\\xb77\\xd7VQI\\xa8\\xd8\\xb5\\x9c\\xe5Ax\\xdaEng\\xcb\\x1f.\\xbf\\xce\\xac\\xcfO\\x04\\x85\\x14Q@\\xc2\\xb9\\xcd<P&\\xf9\\xa4H\\xd7\\xfa\\xce\\xc0\\n\\xfavTFf8U\\x19\\'\\xc8R\\xdbZ\\xbf7\\xf3\\xc94\\xc7\\x96y/\\x92y}*\\xa6r&\\xf0I\\xf1\\x8f\\x1fYiVrEb\\xbe\\xd5q\"\\x95S\\xd1\\x01><\\xc7\\xbd\\x8aSkm{\\r\\x8c1\\xaa\\xa3Y\\xcf\\xb5\\xe2\\x99\\x88\\xe4\\x1b\\x98\\r\\xe5\\x8c\\xfd\\xaaoX\\xd2\\xe5\\xd54t\\xb9\\x1f\\xf31n\\xc0?\\xads\\xd3\\xed\\x91U\\x14\\x17\\xba\\xa4\\x90i\\xf1\\x87\\x97\\xba\\xca\\xa2\\xe7\\x92\\x8c\\x92Nj+\\x8d\\xbaE\\xc7&\\x13\\x1b=\\x90\\xea:|\\x1at\\xb6\\x17WV\\xcb\\xa9=\\xc1\\xda\\x0b\\x80\\xd2\\x8c\\x0f\\xcb\\xe2G#L\\xbaC%\\x8cvz\\x95\\xa2O\\xb5\\x9c\\xe5\\xe4a\\xe2pq\\xfd\\xd1W\\x9e\\x1c\\xe2\\x0b\\x9bMF\\x0bK\\xd9\\x9e[i\\xce\\xd0\\xd26J1\\xe9\\xcf\\xca\\xb5q\\xf8e\\xdb\\x1b\\x18\\x14QEfY\\x11\\xc57&\\xdfF\\x98)\\xc3\\xcb\\xf8k\\xf3\\xeb\\xf6\\xcd,.\\xa4ap\\x7f\\x13\\x0c\\xb1;.9s\\xe9\\xf6$U\\xdf\\x8d.\\x1eY\"\\xb6D;b\\x1d\\xe3\\x1c\\xf5\\'\\x90\\x1f\\xeb\\xce\\x95\\xf7Wo\\xdc\\xea\\x1b\\xc6;\\xb5*\\x8d\\x8cd~c\\xfe\\x1f\\xa5h\\x9e$\\x87\\xeb%u\\x89\\xe5\\x8f\\x86\\xa401/\\xdc\\xa0f\\'\\x9e\\t\\x00\\x9f\\xb9\\xaa\\xbf\\x06j\\r\\x16\\xa6\\xc1\\xd7l-\\x06[w\\xa1\\xe4~\\xf5`\\xcc7v\\x8bg!=\\xd3\\xf2|\\x1cg\\x03\\x97\\xdf\\x07\\xe5Q\\x12\\xdaZ2\\xdd\\xcdl\\x0co\\x19\\xd8\\xa0\\x1e[T\\xf2\\xfbRw\\xaa@\\xa7\\xe1\\xf7\\xc4\\xda\\xb2\\xae\\xa8\\xbd\\xd7P\\x8b\\xcf\\xc8\\xf3?\\xb8\\xd4\\xf6\\xaf#G\\x1cJ\\x99\\xef\\xe5`\"\\xdb\\xe1\\xb7\\x99&\\x977\\xf3Is;3gv1\\xf0\\xe5\\xfc\\xa9\\xa5\\x14\\x17\\r0\\x17\\x16\\xe6+\\x98\\xa1Uea\\x96R@$c\\xe9ZE\\x13Hi\\xe9\\xb7K{aor\\x9d%@\\xdf\\x03\\xe2>\\xb4T\\x0f\\x02^\\xc76\\x97-\\xb75{iJ\\x95>G\\x9f\\xf9\\xd1X\\xd2\\xc3-<\\xa2\\xb3\\xc5\\x16\\xd71\\xf1\\x15\\xd2\\xcd$\\x8b\\x03bH\\xb0\\xc4n\\xdc<O\\xa1\\x04c\\xf9U\\x12\\xed&I\\xee\\x85\\xd6\\xf1h\\xd2wK+\\x11\\x80\\xdbC2\\xfd\\xc7\\xd6\\x9d\\xfcU`/4\\xb6u\\x1f\\x8bo\\xf8\\x88G\\\\x\\x8f\\xa7\\xee\\x14\\xa6\\xe2[K\\x99\\xad#\\x82\\xd2\\xdc\\xba\\xf7\\xed;2\\x91\\x92J\\x85<\\xbf\\xf5\\x1fz\\xc5\\xd3\\x9a\\xf7GJ\\x95\\\\~/Q\\xe4\\xb7\\xb8\\xb4\\x8a%\\x12\\xca\\x9b\\xc2\\x92rq\\xefTD\\xb2\\xa4\\xb1\\xbc[\\x82\\xc7<\\xc1\\x9c\\xa9\\xe8\\x80\\x0c\\x81\\xeaH5\\xe46\\xf7\\x977\\x8d\\x0cP\\\\I*rdX\\xc9`=@\\x15?\\xc3\\xdc-\\xedq\\xb5\\xce\\xa1)P\\xad\\x8ffNL\\x07\\xf6\\xcf\\x81\\xc1\\xe9\\xd6\\xa9\\xf2$\\x8c\\xe7\\x8e\\xaa\\xb0\\x88\\x9d\\n\\xc2Y\\xb5[K\\x98\"\\xdd\\x0c2G+\\xee\\xe4\\x9e\\xe9\\x07i>\\'\\xc3\\x95]u\\xbdX\\x1b\\xab\\x8b\\xf6]\\x8e\\xc4\\xbbl\\x1c\\xf1\\x8e\\x7faQ\\\\K\\xab\\xc5\\xa3\\xac0\\xc1\\x0e\\x03\\x06\\n\\xb1\\x901\\x8c}\\x05Z;5\\xb1\\xd38\\x8bC\\xbb\\x1a\\xad\\x8a\\xb5\\xd7y\\xb2a\\xde0\\xde\\x84\\x02\\x0f#\\x91\\xe2>^\\xb5\\x0b\\xb5\\xe1\\xe9\\x1a\\xbe\\x9cy[g\\xb3\\x82\\xb4\\xbb\\x8b\\xd8n\\xe6k\\x99`p\\xea\\x9b\\xd7\\xfe\\xa0\\xdb\\xb8g\\xe1\\xbf\\x14U\\xf6\\xda\\xde\\x1bXV\\x1bx\\xd68\\xd7\\xa2\\xa8\\xc0\\xa2\\xba\\x1d3\\x93\\xa29\\xeaW\\x06\\xd6\\xc2y\\xd7\\x1b\\x91\\t\\x1b\\xbag\\xc34\\x9a\\x87\\x89m\\xe6\\xd3]\\xb6 ;Ox\\x19\\xc2\\xed>C\\xf8U\\xd7\\xb5+\\xfb\\xbbK\\x0bX\\xe1X\\xda\\t\\xbb\\xcd\\xfb\\x81\\xce\\xe0\\x06\\xdc\\x1c\\xf2\\xe5\\xba\\x917[^G\\x0c\\xab\\xc8\\xe3\\xe9\\xcb\\xf8V7*\\x9e\\x0e\\x88\\xb7\\x1e\\x93Qq,V\\xc8\\xd6bk\\xb7\\x85\\x18\\x81,G\\xde\\x96/\\xd2\\xa7\\'\\xc3\\xd7\\xd6\\xbd?\\xed\\xd4\\xb2%\\xc9\\x96\\xdeH\\x9d\\xc9\\xc3BG?t\\x80N|\\x7f/\\xd2\\xa9\\xaeDm\\x95\\xe5]\\xcd\\xbc\\x90\\xcec\\x9d@`\\x01\\xc6s\\xd4\\x02:z\\x1a?\\x94\\x90\\xb9k>\\x1e\\xcb\\xbb\\xb7\\xd5\\xb5\\x94\\x96R\\xe29%T@\\xdf\\xa5I\\xe9MN\\xce\\x01\\x8f\\x8a\\xae\\'S\\x88\\xe4S\\x1e\\x0f\"\\x07Q\\xf2$}\\xfdiJ\\xb1\\x19%\\x8d\\x15\\xca\\x92y0\\xf04\\xdb\\xec\\xaf\\x87\\xf5\\xfd/Zi\\xf58\\xa3\\xf69\\xed\\xbb\\xc8\\xe62\\x86/\\x9cc\\x1e#\\xa8\\xceqU\\xd7\\xd4\\xc3\\xb7\\x8d\\rj(\\xa2\\xa8\\x92\\x8f\\xda\\xda)\\xe1\\xd8]\\xa4\\x926K\\x8ft\\xaa\\x96\\x1c\\xd1\\xba\\xf2\\xe5HiT\\x00pw\\x0c\\xfeo:\\xd2\\xfc_\\xa5\\r_@\\xba\\xb634X^\\xf3r\\x80s\\xb4\\x13\\x8eu\\x9a\\xa4\\xcft\\xb9L\\x1ct\\xa8k\\xd2\\xb78\\r\\x07Lmg\\x88,4\\xd0\\x0f\\xfb\\xcd\\xc2\\xc6\\xd88!s\\xef\\x1f\\x92\\xe4\\xd5\\xaf\\xb5]2\\x1d3\\x8c\\xde+h\\x84p\\xcbk\\x0b\\xa2(\\xe4\\x00\\x1b1\\xfb\\x15#\\xd8^\\x94\\xb7\\\\E{\\xa9H\\xb9[(B\\xc6H\\xfdo\\x91\\x9f\\xfeU\\xbe\\xb5+\\xdb\\x86\\x9e\\xcb\\xa8iz\\x90\\x1e\\xe3\\xc4\\xd6\\xee|\\x88;\\x97\\xeb\\x96\\xfaU\\xb2\\x10\\xb5\\xb1\\x00_\\xdb\\xee\\xfc\\xbb\\xc6kM\\xe8\\xab\\xb7H\\xb1\\x1eV\\xf1\\x8f\\xd9\\x15\\x98\\xe2s\\x1d\\xd4N\\x07\\xba\\xac\\x0b|<kO\\xe9o\\x14\\x9ae\\xa3\\xc0wD\\xd0\\xa1C\\xe6\\xbbF(Z\\x0f\\xa7\\xaa\\x8a(\\xa0d?\\x17\\xcfmo\\xc3\\x1a\\x9b\\xde\\xdc\\xb5\\xb4\\rl\\xe8\\xd3(\\xc9]\\xc3h\\xc7\\xaeH\\xac\\xd79\\x1d\\xce\\xd0\\x08P3\\xcb\\xca\\x9f}\\xac\\xb0N\\x0b\\xb9%\\x8a\\x9e\\xf6,s\\xe5\\x9d\\xe3\\xaf\\xa5g\\xbb\\xf7\\x90!\\r\\xbb\\x9f2\\x06\\x00\\xfbu\\xa9{\\x1f\\xc1\\xef\\xd8\\xbe\\x93.\\x9d\\xc2^\\xd3q\\x19I/\\xe63\\xa8=v`\\x05\\xfa\\x81\\x9f\\x9dr\\xed\\xb6N\\xef\\x86l\\xc7r\\xce\\r\\xea\\xe5\\xc0\\xfc\\x9e\\xe3\\xd5\\xd7C\\xb3\\x8fO\\xd1ll\\xa1\\x0e#\\x82\\xdd#P\\xe7,\\x00P9\\xfa\\xd4/i6q\\xdd\\xf0u\\xfbHH6\\xc9\\xed\\x08G\\x9a\\xf9\\xfac5LH@\\xa1u\\x99^\\x15\\xce\\xd5%\\xb3\\xe5\\x8eu\\xa4\\xb8]\\xb7\\xf0\\xde\\x96\\xdd\\xd1\\x88\\x1bH\\xb0\\x87\\xaa\\x8d\\xa2\\xb3\\\\n\\xc8\\xea\\xec\\x89\\xdd\\x922\\x8b\\xe2>\\'\\x95i\\x8e\\x1f\\xcf\\xf4\\x16\\x9d\\x92\\xc4\\xfb4y,r\\x7f(\\xa4\\x81\\xec\\x90\\xa2\\x8a)\\x81B\\xed\\xad\\xf6pC\\xaf\\xfd\\xcb\\xa8\\x97\\xeeO\\xf0\\xa4\\x97\\nY\\rO\\x8a\\xf4\\xab7\\\\\\xa4\\xb7q\\x86\\x03\\xfa\\xa0\\xe5\\xbe\\xc0\\xd3\\x8f\\xb7N\\xf0\\xf0\\xb5\\x8a\\xa2\\xbb#j\\t\\xde\\x05\\x1dGw!\\xfd\\xf8\\xaa7c\\x160\\xdcq\\xcfy<N\\xadmk$\\xd0\\x83\\xd06Uy\\xfc\\x9c\\xd0&h\\n\\x84\\xe3h\\xcc\\xbc\\x1d\\xad\\xa0\\x04\\x93a7O\\xfc\\rM\\xd7\\x1b\\xd8\\xa2\\x9e\\xcexn\\x06a\\x926Y\\x07\\xf6H\\xc1\\xfbP3&G!2E\\x85PC\\x0e}kXi\\x91\\x184\\xebX\\x98a\\x92\\x14S\\xf2QY\\x87M\\xb1\\x81\\xef\\xed\\xa2U\\xb8fi\\x80\\x19\\x8f\\x1c\\xb3\\xcb\\x99\\xe5\\x92p+S.q\\xcf\\xaf\\x8d2V\\xcf\\xda(\\xa2\\x91Bc\\xb5\\xbd^\\xf1\\xf5\\x99-\"$\\xdb[\"\\x81\\xcbr\\x06#$\\xf2\\xf1\\xe7\\x8fLz\\xd7\\x0e\\xc3Zi\\xf8\\x93P\\xb8\\xfe\\x8f\\xfc/e\\x08\\xd7(v\\xacG \\xed\\xc7\\x89lg\\xd3o\\xadAj1N\\xfcQyk%\\xf5\\xd3\"L\\xe4\\x16e\\'\\xaf\\xc3\\x14\\xf0\\xe1\\r\\x12\\xc7B\\xd1a\\x83O\\x8b`\\x95D\\xb2\\xb9\\xc6\\xe9\\x1c\\x81\\x968\\xf1\\xe9I,\\x07l\\x93u\\xce\\x7f\\xf8\\x12{\\xa5\\xfd\\xd3\\xee\\x8e\\xa7\\x97J\\xe9E03f\\x9e\\xb7\"\\xfa0\\x96\"(\\xe0|,e\\x0fx\\xb8?\\xa8\\x91\\x90F1\\xd0|+Ap\\xfd\\xf3jZE\\xbd\\xdb\\xab+89\\r\\xd7\\x91#\\x9f\\xd2\\xa8\\xbd\\xa1i\\t\\xed\\xa6Hn\\xee \\xef[{,[\\x00\\xce9\\xfe\\x9c\\xd5\\xbb\\x82\\xed=\\x8fA\\x85=\\xa2i\\xcb\\x1d\\xc5\\xe6 \\xb6p\\x07\\x80\\x1eU3\\x90{\\'h\\xa2\\x8a\\xa0?\\xff\\xd9'"
      ]
     },
     "execution_count": 45,
     "metadata": {},
     "output_type": "execute_result"
    }
   ],
   "source": [
    "# to see the content of the image\n",
    "requests.get(image_tags[0]['src']).content"
   ]
  },
  {
   "cell_type": "code",
   "execution_count": null,
   "id": "58da7bc9-f712-4385-bb30-a726d54b18de",
   "metadata": {},
   "outputs": [],
   "source": [
    "# storing the images in directory\n",
    "\n",
    "for i in image_tags:\n",
    "    # accessing the src tags first\n",
    "    image_urls = i['src']\n",
    "\n",
    "    # getting the content of the images\n",
    "    image_data = requests.get(image_urls).content\n",
    "\n",
    "    # storing the images in images/ dir\n",
    "    # 'wb' is write binary\n",
    "    # file name would be stored as query_1 where 1 will be changing based on the index of list we are getting\n",
    "    # and storing the results in .jpg format\n",
    "    # for e.g. pikachu_1.jpg , pikachu_2.jpg etc...\n",
    "    with open(os.path.join(save_dir, f\"{query}_{image_tags.index(i)}.jpg\"), \"wb\") as file:\n",
    "        file.write(image_data)"
   ]
  },
  {
   "cell_type": "code",
   "execution_count": null,
   "id": "36d5b423-3b99-4876-892c-db014f4cf067",
   "metadata": {},
   "outputs": [],
   "source": []
  }
 ],
 "metadata": {
  "kernelspec": {
   "display_name": "Python 3 (ipykernel)",
   "language": "python",
   "name": "python3"
  },
  "language_info": {
   "codemirror_mode": {
    "name": "ipython",
    "version": 3
   },
   "file_extension": ".py",
   "mimetype": "text/x-python",
   "name": "python",
   "nbconvert_exporter": "python",
   "pygments_lexer": "ipython3",
   "version": "3.8.18"
  }
 },
 "nbformat": 4,
 "nbformat_minor": 5
}
