{
 "cells": [
  {
   "cell_type": "code",
   "execution_count": 1,
   "id": "b9308029-43db-48f4-b7fb-d9255ce89b6b",
   "metadata": {},
   "outputs": [],
   "source": [
    "# importing the libraries\n",
    "import requests"
   ]
  },
  {
   "cell_type": "code",
   "execution_count": 2,
   "id": "82009137-e437-434a-9c65-2cd29f34a2ad",
   "metadata": {},
   "outputs": [],
   "source": [
    "# using the open weather api \n",
    "# setting up the api_key\n",
    "api_key = '44bf0d2f5cc166d5334cc150434614c5'"
   ]
  },
  {
   "cell_type": "code",
   "execution_count": 3,
   "id": "60a050ae-db6b-4053-b70a-a6b30ce5a8b3",
   "metadata": {},
   "outputs": [],
   "source": [
    "# setting up the url for the api\n",
    "url = 'https://api.openweathermap.org/data/2.5/weather'"
   ]
  },
  {
   "cell_type": "code",
   "execution_count": 4,
   "id": "ce789583-7593-47b0-ba7d-538da82d83bd",
   "metadata": {},
   "outputs": [],
   "source": [
    "# setting up the parameters\n",
    "params = {\n",
    "    'q' : 'thane',\n",
    "    'appid' : api_key,\n",
    "    'units' : 'metric'\n",
    "}"
   ]
  },
  {
   "cell_type": "code",
   "execution_count": 5,
   "id": "6daff9ed-612b-4dd1-8973-239c672a2f8b",
   "metadata": {},
   "outputs": [],
   "source": [
    "# sending request and getting response\n",
    "data = requests.get(url, params=params)"
   ]
  },
  {
   "cell_type": "code",
   "execution_count": 6,
   "id": "98a8ae3c-eefb-42e0-a23e-210bd5df7ecd",
   "metadata": {},
   "outputs": [
    {
     "name": "stdout",
     "output_type": "stream",
     "text": [
      "{'coord': {'lon': 72.9667, 'lat': 19.2}, 'weather': [{'id': 711, 'main': 'Smoke', 'description': 'smoke', 'icon': '50d'}], 'base': 'stations', 'main': {'temp': 25.95, 'feels_like': 25.95, 'temp_min': 24.9, 'temp_max': 25.95, 'pressure': 1014, 'humidity': 53}, 'visibility': 2100, 'wind': {'speed': 1.54, 'deg': 120}, 'clouds': {'all': 40}, 'dt': 1703301968, 'sys': {'type': 1, 'id': 9052, 'country': 'IN', 'sunrise': 1703295463, 'sunset': 1703334960}, 'timezone': 19800, 'id': 1254661, 'name': 'Thāne', 'cod': 200}\n"
     ]
    }
   ],
   "source": [
    "# viewing the result in json format\n",
    "print(data.json())"
   ]
  },
  {
   "cell_type": "code",
   "execution_count": null,
   "id": "6ac45476-b7a6-46bc-962e-c939c96d81cf",
   "metadata": {},
   "outputs": [],
   "source": []
  }
 ],
 "metadata": {
  "kernelspec": {
   "display_name": "Python 3 (ipykernel)",
   "language": "python",
   "name": "python3"
  },
  "language_info": {
   "codemirror_mode": {
    "name": "ipython",
    "version": 3
   },
   "file_extension": ".py",
   "mimetype": "text/x-python",
   "name": "python",
   "nbconvert_exporter": "python",
   "pygments_lexer": "ipython3",
   "version": "3.8.18"
  }
 },
 "nbformat": 4,
 "nbformat_minor": 5
}
